{
 "cells": [
  {
   "cell_type": "code",
   "execution_count": 1,
   "id": "de3a2a15-cb45-45c6-b730-c1268a417f6c",
   "metadata": {},
   "outputs": [],
   "source": [
    "from operator import itemgetter\n",
    "from types import SimpleNamespace\n",
    "import pandas as pd\n",
    "import opossom.column as col"
   ]
  },
  {
   "cell_type": "code",
   "execution_count": 2,
   "id": "739ab730-3376-44dd-8408-952aa0d986dc",
   "metadata": {},
   "outputs": [],
   "source": [
    "url = \"https://raw.githubusercontent.com/rfordatascience/tidytuesday/master/data/2020/2020-07-28/penguins.csv\"\n",
    "penguins = pd.read_csv(url).convert_dtypes()"
   ]
  },
  {
   "cell_type": "code",
   "execution_count": 3,
   "id": "436e3a5c-3c3f-4295-bb37-ca66a05c4efc",
   "metadata": {},
   "outputs": [
    {
     "data": {
      "text/html": [
       "<div>\n",
       "<style scoped>\n",
       "    .dataframe tbody tr th:only-of-type {\n",
       "        vertical-align: middle;\n",
       "    }\n",
       "\n",
       "    .dataframe tbody tr th {\n",
       "        vertical-align: top;\n",
       "    }\n",
       "\n",
       "    .dataframe thead th {\n",
       "        text-align: right;\n",
       "    }\n",
       "</style>\n",
       "<table border=\"1\" class=\"dataframe\">\n",
       "  <thead>\n",
       "    <tr style=\"text-align: right;\">\n",
       "      <th></th>\n",
       "      <th>species</th>\n",
       "      <th>island</th>\n",
       "      <th>bill_length_mm</th>\n",
       "      <th>bill_depth_mm</th>\n",
       "      <th>flipper_length_mm</th>\n",
       "      <th>body_mass_g</th>\n",
       "      <th>sex</th>\n",
       "      <th>year</th>\n",
       "    </tr>\n",
       "  </thead>\n",
       "  <tbody>\n",
       "    <tr>\n",
       "      <th>0</th>\n",
       "      <td>Adelie</td>\n",
       "      <td>Torgersen</td>\n",
       "      <td>39.1</td>\n",
       "      <td>18.7</td>\n",
       "      <td>181</td>\n",
       "      <td>3750</td>\n",
       "      <td>male</td>\n",
       "      <td>2007</td>\n",
       "    </tr>\n",
       "    <tr>\n",
       "      <th>1</th>\n",
       "      <td>Adelie</td>\n",
       "      <td>Torgersen</td>\n",
       "      <td>39.5</td>\n",
       "      <td>17.4</td>\n",
       "      <td>186</td>\n",
       "      <td>3800</td>\n",
       "      <td>female</td>\n",
       "      <td>2007</td>\n",
       "    </tr>\n",
       "    <tr>\n",
       "      <th>2</th>\n",
       "      <td>Adelie</td>\n",
       "      <td>Torgersen</td>\n",
       "      <td>40.3</td>\n",
       "      <td>18.0</td>\n",
       "      <td>195</td>\n",
       "      <td>3250</td>\n",
       "      <td>female</td>\n",
       "      <td>2007</td>\n",
       "    </tr>\n",
       "    <tr>\n",
       "      <th>3</th>\n",
       "      <td>Adelie</td>\n",
       "      <td>Torgersen</td>\n",
       "      <td>&lt;NA&gt;</td>\n",
       "      <td>&lt;NA&gt;</td>\n",
       "      <td>&lt;NA&gt;</td>\n",
       "      <td>&lt;NA&gt;</td>\n",
       "      <td>&lt;NA&gt;</td>\n",
       "      <td>2007</td>\n",
       "    </tr>\n",
       "    <tr>\n",
       "      <th>4</th>\n",
       "      <td>Adelie</td>\n",
       "      <td>Torgersen</td>\n",
       "      <td>36.7</td>\n",
       "      <td>19.3</td>\n",
       "      <td>193</td>\n",
       "      <td>3450</td>\n",
       "      <td>female</td>\n",
       "      <td>2007</td>\n",
       "    </tr>\n",
       "  </tbody>\n",
       "</table>\n",
       "</div>"
      ],
      "text/plain": [
       "  species     island  bill_length_mm  bill_depth_mm  flipper_length_mm  \\\n",
       "0  Adelie  Torgersen            39.1           18.7                181   \n",
       "1  Adelie  Torgersen            39.5           17.4                186   \n",
       "2  Adelie  Torgersen            40.3           18.0                195   \n",
       "3  Adelie  Torgersen            <NA>           <NA>               <NA>   \n",
       "4  Adelie  Torgersen            36.7           19.3                193   \n",
       "\n",
       "   body_mass_g     sex  year  \n",
       "0         3750    male  2007  \n",
       "1         3800  female  2007  \n",
       "2         3250  female  2007  \n",
       "3         <NA>    <NA>  2007  \n",
       "4         3450  female  2007  "
      ]
     },
     "execution_count": 3,
     "metadata": {},
     "output_type": "execute_result"
    }
   ],
   "source": [
    "penguins.head()"
   ]
  },
  {
   "cell_type": "code",
   "execution_count": 4,
   "id": "9b47cc01-5b21-4fe3-ab2b-eb27e8ce9967",
   "metadata": {},
   "outputs": [],
   "source": [
    "class Schema(SimpleNamespace):\n",
    "    \n",
    "    def __getattr__(self, name):\n",
    "        setattr(self, name, col.Column(name))\n",
    "        return col.Column(name)\n",
    "\n",
    "\n",
    "def make_schema(table: pd.DataFrame):\n",
    "    schema = {}\n",
    "    for name, dtype in table.dtypes.items():\n",
    "        if isinstance(dtype, pd.StringDtype):\n",
    "            schema[name] = col.str(name)\n",
    "        elif isinstance(dtype, (pd.Int64Dtype, pd.Float64Dtype)):\n",
    "            schema[name] = col.num(name)\n",
    "        else:\n",
    "            schema[name] = col.Column(name)\n",
    "\n",
    "    return Schema(**schema)"
   ]
  },
  {
   "cell_type": "code",
   "execution_count": 5,
   "id": "de3e11b1-4fe7-4911-96ba-55259ac4d283",
   "metadata": {},
   "outputs": [],
   "source": [
    "t = make_schema(penguins)"
   ]
  },
  {
   "cell_type": "code",
   "execution_count": 6,
   "id": "9ca84cd1-9ec2-4015-8319-5cb0ada50a42",
   "metadata": {},
   "outputs": [
    {
     "data": {
      "text/plain": [
       "['bill_depth_mm',\n",
       " 'bill_length_mm',\n",
       " 'body_mass_g',\n",
       " 'flipper_length_mm',\n",
       " 'island',\n",
       " 'sex',\n",
       " 'species',\n",
       " 'year']"
      ]
     },
     "execution_count": 6,
     "metadata": {},
     "output_type": "execute_result"
    }
   ],
   "source": [
    "[item for item in dir(t) if not item.startswith(\"_\")]"
   ]
  },
  {
   "cell_type": "code",
   "execution_count": 7,
   "id": "d41b416e-df94-495f-bf09-f43484a317a2",
   "metadata": {},
   "outputs": [
    {
     "data": {
      "text/plain": [
       "(344, 8)"
      ]
     },
     "execution_count": 7,
     "metadata": {},
     "output_type": "execute_result"
    }
   ],
   "source": [
    "penguins.shape"
   ]
  },
  {
   "cell_type": "code",
   "execution_count": 8,
   "id": "d6619b48-b129-4420-ac3b-4308e642722d",
   "metadata": {},
   "outputs": [
    {
     "data": {
      "text/plain": [
       "(97, 9)"
      ]
     },
     "execution_count": 8,
     "metadata": {},
     "output_type": "execute_result"
    }
   ],
   "source": [
    "(\n",
    "    penguins\n",
    "    .assign(bill_depth_cm=t.bill_depth_mm / 100)  # Column name is offered as autocomplete\n",
    "    .loc[t.bill_depth_cm > 0.185]  # Uses a column that was not previously in schema\n",
    "    .shape\n",
    ")"
   ]
  },
  {
   "cell_type": "code",
   "execution_count": 9,
   "id": "4c2ac3ec-88b0-42dd-aac9-b47a2c0adb6a",
   "metadata": {},
   "outputs": [
    {
     "data": {
      "text/plain": [
       "['bill_depth_cm',\n",
       " 'bill_depth_mm',\n",
       " 'bill_length_mm',\n",
       " 'body_mass_g',\n",
       " 'flipper_length_mm',\n",
       " 'island',\n",
       " 'sex',\n",
       " 'species',\n",
       " 'year']"
      ]
     },
     "execution_count": 9,
     "metadata": {},
     "output_type": "execute_result"
    }
   ],
   "source": [
    "# Column is now in schema and is offered as autocomplete\n",
    "[item for item in dir(t) if not item.startswith(\"_\")]"
   ]
  },
  {
   "cell_type": "markdown",
   "id": "2e2a7425-bb5f-4d01-8c7a-a5bc3eb31e62",
   "metadata": {},
   "source": [
    "In the future, it might be nice to add some set-like methods to the `Schema` object.\n",
    "If desired, all column names could be collected in a single object or they could be split into multiple objects.\n",
    "\n",
    "```python\n",
    "t = make_schema(penguins)\n",
    "i = make_schema(islands)\n",
    "a = t | i                  # Has columns from both tables\n",
    "a |= make_schema(species)  # Has columns from all three tables\n",
    "```"
   ]
  }
 ],
 "metadata": {
  "kernelspec": {
   "display_name": "Python 3 (ipykernel)",
   "language": "python",
   "name": "python3"
  },
  "language_info": {
   "codemirror_mode": {
    "name": "ipython",
    "version": 3
   },
   "file_extension": ".py",
   "mimetype": "text/x-python",
   "name": "python",
   "nbconvert_exporter": "python",
   "pygments_lexer": "ipython3",
   "version": "3.9.13"
  }
 },
 "nbformat": 4,
 "nbformat_minor": 5
}
